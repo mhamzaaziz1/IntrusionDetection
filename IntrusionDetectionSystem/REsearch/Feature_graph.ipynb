{
 "cells": [
  {
   "cell_type": "code",
   "execution_count": null,
   "metadata": {},
   "outputs": [
    {
     "name": "stdout",
     "output_type": "stream",
     "text": [
      "   proto  service  state\n",
      "0    113        0      4\n",
      "1    113        0      4\n",
      "2    113        0      4\n",
      "3    113        3      4\n",
      "4    113        0      4\n",
      "[['Proto_3pc', 'Proto_a/n', 'Proto_aes-sp3-d', 'Proto_any', 'Proto_argus', 'Proto_aris', 'Proto_arp', 'Proto_ax.25', 'Proto_bbn-rcc', 'Proto_bna', 'Proto_br-sat-mon', 'Proto_cbt', 'Proto_cftp', 'Proto_chaos', 'Proto_compaq-peer', 'Proto_cphb', 'Proto_cpnx', 'Proto_crtp', 'Proto_crudp', 'Proto_dcn', 'Proto_ddp', 'Proto_ddx', 'Proto_dgp', 'Proto_egp', 'Proto_eigrp', 'Proto_emcon', 'Proto_encap', 'Proto_etherip', 'Proto_fc', 'Proto_fire', 'Proto_ggp', 'Proto_gmtp', 'Proto_gre', 'Proto_hmp', 'Proto_i-nlsp', 'Proto_iatp', 'Proto_ib', 'Proto_icmp', 'Proto_idpr', 'Proto_idpr-cmtp', 'Proto_idrp', 'Proto_ifmp', 'Proto_igmp', 'Proto_igp', 'Proto_il', 'Proto_ip', 'Proto_ipcomp', 'Proto_ipcv', 'Proto_ipip', 'Proto_iplt', 'Proto_ipnip', 'Proto_ippc', 'Proto_ipv6', 'Proto_ipv6-frag', 'Proto_ipv6-no', 'Proto_ipv6-opts', 'Proto_ipv6-route', 'Proto_ipx-n-ip', 'Proto_irtp', 'Proto_isis', 'Proto_iso-ip', 'Proto_iso-tp4', 'Proto_kryptolan', 'Proto_l2tp', 'Proto_larp', 'Proto_leaf-1', 'Proto_leaf-2', 'Proto_merit-inp', 'Proto_mfe-nsp', 'Proto_mhrp', 'Proto_micp', 'Proto_mobile', 'Proto_mtp', 'Proto_mux', 'Proto_narp', 'Proto_netblt', 'Proto_nsfnet-igp', 'Proto_nvp', 'Proto_ospf', 'Proto_pgm', 'Proto_pim', 'Proto_pipe', 'Proto_pnni', 'Proto_pri-enc', 'Proto_prm', 'Proto_ptp', 'Proto_pup', 'Proto_pvp', 'Proto_qnx', 'Proto_rdp', 'Proto_rsvp', 'Proto_rtp', 'Proto_rvd', 'Proto_sat-expak', 'Proto_sat-mon', 'Proto_sccopmce', 'Proto_scps', 'Proto_sctp', 'Proto_sdrp', 'Proto_secure-vmtp', 'Proto_sep', 'Proto_skip', 'Proto_sm', 'Proto_smp', 'Proto_snp', 'Proto_sprite-rpc', 'Proto_sps', 'Proto_srp', 'Proto_st2', 'Proto_stp', 'Proto_sun-nd', 'Proto_swipe', 'Proto_tcf', 'Proto_tcp', 'Proto_tlsp', 'Proto_tp++', 'Proto_trunk-1', 'Proto_trunk-2', 'Proto_ttp', 'Proto_udp', 'Proto_unas', 'Proto_uti', 'Proto_vines', 'Proto_visa', 'Proto_vmtp', 'Proto_vrrp', 'Proto_wb-expak', 'Proto_wb-mon', 'Proto_wsn', 'Proto_xnet', 'Proto_xns-idp', 'Proto_xtp', 'Proto_zero'], ['service_-', 'service_dhcp', 'service_dns', 'service_ftp', 'service_ftp-data', 'service_http', 'service_irc', 'service_pop3', 'service_radius', 'service_smtp', 'service_snmp', 'service_ssh', 'service_ssl'], ['state_ACC', 'state_CLO', 'state_CON', 'state_ECO', 'state_FIN', 'state_INT', 'state_PAR', 'state_REQ', 'state_RST', 'state_URN', 'state_no']]\n",
      "['Proto_3pc', 'Proto_a/n', 'Proto_aes-sp3-d', 'Proto_any', 'Proto_argus', 'Proto_aris', 'Proto_arp', 'Proto_ax.25', 'Proto_bbn-rcc', 'Proto_bna', 'Proto_br-sat-mon', 'Proto_cbt', 'Proto_cftp', 'Proto_chaos', 'Proto_compaq-peer', 'Proto_cphb', 'Proto_cpnx', 'Proto_crtp', 'Proto_crudp', 'Proto_dcn', 'Proto_ddp', 'Proto_ddx', 'Proto_dgp', 'Proto_egp', 'Proto_eigrp', 'Proto_emcon', 'Proto_encap', 'Proto_etherip', 'Proto_fc', 'Proto_fire', 'Proto_ggp', 'Proto_gmtp', 'Proto_gre', 'Proto_hmp', 'Proto_i-nlsp', 'Proto_iatp', 'Proto_ib', 'Proto_icmp', 'Proto_idpr', 'Proto_idpr-cmtp', 'Proto_idrp', 'Proto_ifmp', 'Proto_igmp', 'Proto_igp', 'Proto_il', 'Proto_ip', 'Proto_ipcomp', 'Proto_ipcv', 'Proto_ipip', 'Proto_iplt', 'Proto_ipnip', 'Proto_ippc', 'Proto_ipv6', 'Proto_ipv6-frag', 'Proto_ipv6-no', 'Proto_ipv6-opts', 'Proto_ipv6-route', 'Proto_ipx-n-ip', 'Proto_irtp', 'Proto_isis', 'Proto_iso-ip', 'Proto_iso-tp4', 'Proto_kryptolan', 'Proto_l2tp', 'Proto_larp', 'Proto_leaf-1', 'Proto_leaf-2', 'Proto_merit-inp', 'Proto_mfe-nsp', 'Proto_mhrp', 'Proto_micp', 'Proto_mobile', 'Proto_mtp', 'Proto_mux', 'Proto_narp', 'Proto_netblt', 'Proto_nsfnet-igp', 'Proto_nvp', 'Proto_ospf', 'Proto_pgm', 'Proto_pim', 'Proto_pipe', 'Proto_pnni', 'Proto_pri-enc', 'Proto_prm', 'Proto_ptp', 'Proto_pup', 'Proto_pvp', 'Proto_qnx', 'Proto_rdp', 'Proto_rsvp', 'Proto_rtp', 'Proto_rvd', 'Proto_sat-expak', 'Proto_sat-mon', 'Proto_sccopmce', 'Proto_scps', 'Proto_sctp', 'Proto_sdrp', 'Proto_secure-vmtp', 'Proto_sep', 'Proto_skip', 'Proto_sm', 'Proto_smp', 'Proto_snp', 'Proto_sprite-rpc', 'Proto_sps', 'Proto_srp', 'Proto_st2', 'Proto_stp', 'Proto_sun-nd', 'Proto_swipe', 'Proto_tcf', 'Proto_tcp', 'Proto_tlsp', 'Proto_tp++', 'Proto_trunk-1', 'Proto_trunk-2', 'Proto_ttp', 'Proto_udp', 'Proto_unas', 'Proto_uti', 'Proto_vines', 'Proto_visa', 'Proto_vmtp', 'Proto_vrrp', 'Proto_wb-expak', 'Proto_wb-mon', 'Proto_wsn', 'Proto_xnet', 'Proto_xns-idp', 'Proto_xtp', 'Proto_zero', 'service_-', 'service_dhcp', 'service_dns', 'service_ftp', 'service_ftp-data', 'service_http', 'service_irc', 'service_pop3', 'service_radius', 'service_smtp', 'service_snmp', 'service_ssh', 'service_ssl', 'state_ACC', 'state_CLO', 'state_CON', 'state_ECO', 'state_FIN', 'state_INT', 'state_PAR', 'state_REQ', 'state_RST', 'state_URN', 'state_no']\n",
      "(257673, 197)\n",
      "Automatically created module for IPython interactive environment\n"
     ]
    }
   ],
   "source": [
    "import pandas as pd\n",
    "\n",
    "df_test=pd.read_csv(\"C:/Users/Anderson/Downloads/UNSW-NB15 - CSV Files/UNSW-NB15 - CSV Files/a part of training and testing set/UNSW_NB15_training-set.csv\")\n",
    "df_test=df_test.drop(['id'], axis=1)\n",
    "df_train=pd.read_csv(\"C:/Users/Anderson/Downloads/UNSW-NB15 - CSV Files/UNSW-NB15 - CSV Files/a part of training and testing set/UNSW_NB15_testing-set.csv\")\n",
    "df_train=df_train.drop(['id'], axis=1)\n",
    "\n",
    "df=pd.concat([df_train,df_test])\n",
    "\n",
    "df.shape\n",
    "\n",
    "import seaborn as s\n",
    "import matplotlib.pyplot as plt\n",
    "\n",
    "%matplotlib inline\n",
    "plt.figure(figsize=(4,8))\n",
    "ax=s.countplot(x='label',data=df )\n",
    "for p in ax.patches:\n",
    "        ax.annotate('{:}'.format(p.get_height()), (p.get_x()+0.1, p.get_height()+50))\n",
    "\n",
    "df=df.drop(['attack_cat'], axis=1)\n",
    "\n",
    "from sklearn.preprocessing import LabelEncoder,OneHotEncoder\n",
    "\n",
    "df_categorical_values_enc=df.select_dtypes(include=['object']).apply(LabelEncoder().fit_transform)\n",
    "print(df_categorical_values_enc.head())\n",
    "# proto\n",
    "proto=sorted(df.proto.unique())\n",
    "string1 = 'Proto_'\n",
    "proto_2=[string1 + x for x in proto]\n",
    "# service\n",
    "service=sorted(df.service.unique())\n",
    "string2 = 'service_'\n",
    "service_2=[string2 + x for x in service]\n",
    "# state\n",
    "state=sorted(df.state.unique())\n",
    "string3 = 'state_'\n",
    "state_2=[string3 + x for x in state]\n",
    "# put together\n",
    "dumcols=[]\n",
    "#dumcols=''.join(proto_2 + service_2 + state_2)\n",
    "dumcols.append(proto_2)\n",
    "dumcols.append(service_2)\n",
    "dumcols.append(state_2)\n",
    "print(dumcols)\n",
    "\n",
    "def flatten(l):\n",
    "    try:\n",
    "        return flatten(l[0]) + (flatten(l[1:]) if len(l) > 1 else []) if type(l) is list else [l]\n",
    "    except IndexError:\n",
    "        return []\n",
    "\n",
    "dumcols=flatten(dumcols)\n",
    "print(dumcols)\n",
    "len(dumcols)\n",
    "\n",
    "enc = OneHotEncoder()\n",
    "df_categorical_values_encenc = enc.fit_transform(df_categorical_values_enc)\n",
    "df_cat_data = pd.DataFrame(df_categorical_values_encenc.toarray(),columns=dumcols)\n",
    "df_cat_data.head()\n",
    "\n",
    "newdf=df.join(df_cat_data)\n",
    "newdf.drop('state', axis=1, inplace=True)\n",
    "newdf.drop('proto', axis=1, inplace=True)\n",
    "newdf.drop('service', axis=1, inplace=True)\n",
    "print(newdf.shape)\n",
    "\n",
    "newdf.head()\n",
    "\n",
    "\n",
    "\n",
    "\n",
    "\n",
    "X=newdf.drop(['label'], axis=1)\n",
    "y=newdf.label\n",
    "\n"
   ]
  },
  {
   "cell_type": "code",
   "execution_count": 2,
   "metadata": {},
   "outputs": [
    {
     "name": "stdout",
     "output_type": "stream",
     "text": [
      "Automatically created module for IPython interactive environment\n"
     ]
    }
   ],
   "source": [
    "print(__doc__)\n",
    "\n",
    "import matplotlib.pyplot as plt\n",
    "from sklearn.feature_selection import RFECV\n",
    "from sklearn.model_selection import StratifiedKFold\n",
    "from sklearn.ensemble import RandomForestClassifier\n",
    "clf=RandomForestClassifier(n_estimators=10, criterion='gini', max_depth=None, min_samples_split=2,\n",
    "                           min_samples_leaf=1, min_weight_fraction_leaf=0.0, max_features='auto',\n",
    "                           max_leaf_nodes=None, min_impurity_decrease=0.0, min_impurity_split=None,\n",
    "                           bootstrap=True, oob_score=False, n_jobs=1, random_state=None, verbose=0,\n",
    "                           warm_start=False, class_weight=None)"
   ]
  },
  {
   "cell_type": "code",
   "execution_count": 3,
   "metadata": {},
   "outputs": [
    {
     "data": {
      "text/plain": [
       "RFECV(cv=10,\n",
       "   estimator=RandomForestClassifier(bootstrap=True, class_weight=None, criterion='gini',\n",
       "            max_depth=None, max_features='auto', max_leaf_nodes=None,\n",
       "            min_impurity_decrease=0.0, min_impurity_split=None,\n",
       "            min_samples_leaf=1, min_samples_split=2,\n",
       "            min_weight_fraction_leaf=0.0, n_estimators=10, n_jobs=1,\n",
       "            oob_score=False, random_state=None, verbose=0,\n",
       "            warm_start=False),\n",
       "   n_jobs=1, scoring='accuracy', step=1, verbose=0)"
      ]
     },
     "execution_count": 3,
     "metadata": {},
     "output_type": "execute_result"
    }
   ],
   "source": [
    "# Create the RFE object and compute a cross-validated score.\n",
    "# The \"accuracy\" scoring is proportional to the number of correct\n",
    "# classifications\n",
    "rfecv = RFECV(estimator=clf, step=1, cv=10, scoring='accuracy')\n",
    "rfecv.fit(X, y)\n",
    "# Plot number of features VS. cross-validation scores\n"
   ]
  },
  {
   "cell_type": "code",
   "execution_count": 4,
   "metadata": {},
   "outputs": [
    {
     "data": {
      "text/plain": [
       "Text(0.5,1,'RFECV')"
      ]
     },
     "execution_count": 4,
     "metadata": {},
     "output_type": "execute_result"
    },
    {
     "data": {
      "image/png": "[encoded data removed]",
      "text/plain": [
       "<matplotlib.figure.Figure at 0xf454710>"
      ]
     },
     "metadata": {},
     "output_type": "display_data"
    }
   ],
   "source": [
    "plt.figure()\n",
    "plt.xlabel(\"Number of features selected\")\n",
    "plt.ylabel(\"Cross validation score (nb of correct classifications)\")\n",
    "plt.title('RFECV')"
   ]
  },
  {
   "cell_type": "code",
   "execution_count": 5,
   "metadata": {},
   "outputs": [
    {
     "data": {
      "image/png": "[encoded data removed]",
      "text/plain": [
       "<matplotlib.figure.Figure at 0xf485940>"
      ]
     },
     "metadata": {},
     "output_type": "display_data"
    }
   ],
   "source": [
    "plt.plot(range(1, len(rfecv.grid_scores_) + 1), rfecv.grid_scores_)\n",
    "plt.show()"
   ]
  },
  {
   "cell_type": "code",
   "execution_count": null,
   "metadata": {},
   "outputs": [],
   "source": []
  }
 ],
 "metadata": {
  "kernelspec": {
   "display_name": "Python 3",
   "language": "python",
   "name": "python3"
  },
  "language_info": {
   "codemirror_mode": {
    "name": "ipython",
    "version": 3
   },
   "file_extension": ".py",
   "mimetype": "text/x-python",
   "name": "python",
   "nbconvert_exporter": "python",
   "pygments_lexer": "ipython3",
   "version": "3.6.4"
  }
 },
 "nbformat": 4,
 "nbformat_minor": 2
}
